{
 "cells": [
  {
   "cell_type": "markdown",
   "metadata": {},
   "source": [
    "# WriteRight: An English dialect translator"
   ]
  },
  {
   "cell_type": "markdown",
   "metadata": {},
   "source": [
    "**Summary**: Communication is challenging when people speak different dialects. In a business setting, this can result in lost time, sales, and ultimately revenue. Communication is such an extensive problem, that it is estimated ~$40B will be spent on translation services in 2018. Currently, machine learning based translation services focus on translations between different languages, thus there is a need for dialect translation services.\n",
    "\n",
    "Here, I developed an English dialect translator to translate between American and British English. Feel free to explore the translator at [http://www.writeright.cc](http://www.writeright.cc)."
   ]
  },
  {
   "cell_type": "markdown",
   "metadata": {},
   "source": [
    "### Data analysis details below:"
   ]
  },
  {
   "cell_type": "markdown",
   "metadata": {},
   "source": [
    "I recently added large corpora of sentences to a Postgresql database. I want to use these data as new training data to see if we can do a better job of translating. Each corpus has millions of words and are specific to American and British dialects. Keep your fingers crossed..."
   ]
  },
  {
   "cell_type": "markdown",
   "metadata": {},
   "source": [
    "First, lets see what we have in the database."
   ]
  },
  {
   "cell_type": "code",
   "execution_count": 1,
   "metadata": {
    "collapsed": true
   },
   "outputs": [],
   "source": [
    "%matplotlib inline\n",
    "\n",
    "import matplotlib\n",
    "import numpy as np\n",
    "import matplotlib.pyplot as plt\n",
    "\n",
    "from sqlalchemy import create_engine\n",
    "from sqlalchemy_utils import database_exists, create_database\n",
    "import psycopg2\n",
    "import pandas as pd\n",
    "from gensim import models, utils\n",
    "from gensim.models import translation_matrix\n",
    "import gensim"
   ]
  },
  {
   "cell_type": "code",
   "execution_count": 2,
   "metadata": {
    "collapsed": true
   },
   "outputs": [],
   "source": [
    "# Define a database name\n",
    "# Set your postgres username\n",
    "dbname = 'corpus'\n",
    "username = 'dan' # change this to your username"
   ]
  },
  {
   "cell_type": "code",
   "execution_count": 3,
   "metadata": {},
   "outputs": [
    {
     "name": "stdout",
     "output_type": "stream",
     "text": [
      "postgres://dan@localhost/corpus\n"
     ]
    }
   ],
   "source": [
    "## 'engine' is a connection to a database\n",
    "## Here, we're using postgres, but sqlalchemy can connect to other things too.\n",
    "from sqlalchemy import create_engine\n",
    "engine = create_engine('postgres://%s@localhost/%s'%(username,dbname))\n",
    "print(engine.url)"
   ]
  },
  {
   "cell_type": "code",
   "execution_count": 4,
   "metadata": {
    "collapsed": true
   },
   "outputs": [],
   "source": [
    "conn = None\n",
    "conn = psycopg2.connect(database = dbname, user = username)\n",
    "cur = conn.cursor()\n",
    "\n",
    "# create table one by one\n",
    "\n",
    "# close communication with the PostgreSQL database server\n",
    "#cur.close()\n",
    "# commit the changes\n",
    "#conn.commit()"
   ]
  },
  {
   "cell_type": "code",
   "execution_count": 5,
   "metadata": {},
   "outputs": [
    {
     "name": "stdout",
     "output_type": "stream",
     "text": [
      "[('training_data',)]\n"
     ]
    }
   ],
   "source": [
    "cur = conn.cursor()\n",
    "cur.execute(\"select relname from pg_class where relkind='r' and relname !~ '^(pg_|sql_)';\")\n",
    "print (cur.fetchall())\n",
    "\n"
   ]
  },
  {
   "cell_type": "markdown",
   "metadata": {},
   "source": [
    "### Input data into Pandas"
   ]
  },
  {
   "cell_type": "code",
   "execution_count": 6,
   "metadata": {
    "collapsed": true
   },
   "outputs": [],
   "source": [
    "command = '''SELECT * \n",
    "             FROM training_data;\n",
    "             '''\n",
    "\n",
    "# Read in the data into Pandas\n",
    "df = pd.read_sql_query(command, con=engine)\n",
    "\n"
   ]
  },
  {
   "cell_type": "code",
   "execution_count": 7,
   "metadata": {},
   "outputs": [
    {
     "data": {
      "text/plain": [
       "BNC     12736688\n",
       "OANC      627803\n",
       "Name: source, dtype: int64"
      ]
     },
     "execution_count": 7,
     "metadata": {},
     "output_type": "execute_result"
    }
   ],
   "source": [
    "df.source.value_counts()"
   ]
  },
  {
   "cell_type": "code",
   "execution_count": 8,
   "metadata": {
    "collapsed": true
   },
   "outputs": [],
   "source": [
    "df_non_dup = df.drop_duplicates()"
   ]
  },
  {
   "cell_type": "markdown",
   "metadata": {},
   "source": [
    "I need to change 'BNC' and 'OANC' to number values. Later analyses require numerical rather than text data."
   ]
  },
  {
   "cell_type": "code",
   "execution_count": 9,
   "metadata": {},
   "outputs": [
    {
     "name": "stderr",
     "output_type": "stream",
     "text": [
      "/Users/dan/anaconda3/lib/python3.6/site-packages/ipykernel_launcher.py:2: SettingWithCopyWarning: \n",
      "A value is trying to be set on a copy of a slice from a DataFrame.\n",
      "Try using .loc[row_indexer,col_indexer] = value instead\n",
      "\n",
      "See the caveats in the documentation: http://pandas.pydata.org/pandas-docs/stable/indexing.html#indexing-view-versus-copy\n",
      "  \n"
     ]
    }
   ],
   "source": [
    "temp_replace = {'BNC':0, 'OANC': 1}\n",
    "df_non_dup['source'] = df_non_dup['source'].replace(temp_replace)"
   ]
  },
  {
   "cell_type": "code",
   "execution_count": 10,
   "metadata": {},
   "outputs": [
    {
     "data": {
      "text/html": [
       "<div>\n",
       "<style>\n",
       "    .dataframe thead tr:only-child th {\n",
       "        text-align: right;\n",
       "    }\n",
       "\n",
       "    .dataframe thead th {\n",
       "        text-align: left;\n",
       "    }\n",
       "\n",
       "    .dataframe tbody tr th {\n",
       "        vertical-align: top;\n",
       "    }\n",
       "</style>\n",
       "<table border=\"1\" class=\"dataframe\">\n",
       "  <thead>\n",
       "    <tr style=\"text-align: right;\">\n",
       "      <th></th>\n",
       "      <th>source</th>\n",
       "      <th>sentence</th>\n",
       "    </tr>\n",
       "  </thead>\n",
       "  <tbody>\n",
       "    <tr>\n",
       "      <th>0</th>\n",
       "      <td>0</td>\n",
       "      <td>have  you  done  much  work</td>\n",
       "    </tr>\n",
       "    <tr>\n",
       "      <th>1</th>\n",
       "      <td>0</td>\n",
       "      <td>i've  done  some  work</td>\n",
       "    </tr>\n",
       "    <tr>\n",
       "      <th>2</th>\n",
       "      <td>0</td>\n",
       "      <td>i've  tried</td>\n",
       "    </tr>\n",
       "    <tr>\n",
       "      <th>3</th>\n",
       "      <td>0</td>\n",
       "      <td>good</td>\n",
       "    </tr>\n",
       "    <tr>\n",
       "      <th>4</th>\n",
       "      <td>0</td>\n",
       "      <td>to  sort  of</td>\n",
       "    </tr>\n",
       "  </tbody>\n",
       "</table>\n",
       "</div>"
      ],
      "text/plain": [
       "   source                      sentence\n",
       "0       0  have  you  done  much  work \n",
       "1       0       i've  done  some  work \n",
       "2       0                 i've  tried  \n",
       "3       0                         good \n",
       "4       0                to  sort  of  "
      ]
     },
     "execution_count": 10,
     "metadata": {},
     "output_type": "execute_result"
    }
   ],
   "source": [
    "df_non_dup.head()"
   ]
  },
  {
   "cell_type": "code",
   "execution_count": 24,
   "metadata": {},
   "outputs": [
    {
     "name": "stderr",
     "output_type": "stream",
     "text": [
      "/Users/dan/anaconda3/lib/python3.6/site-packages/ipykernel_launcher.py:7: SettingWithCopyWarning: \n",
      "A value is trying to be set on a copy of a slice from a DataFrame.\n",
      "Try using .loc[row_indexer,col_indexer] = value instead\n",
      "\n",
      "See the caveats in the documentation: http://pandas.pydata.org/pandas-docs/stable/indexing.html#indexing-view-versus-copy\n",
      "  import sys\n"
     ]
    },
    {
     "data": {
      "text/html": [
       "<div>\n",
       "<style>\n",
       "    .dataframe thead tr:only-child th {\n",
       "        text-align: right;\n",
       "    }\n",
       "\n",
       "    .dataframe thead th {\n",
       "        text-align: left;\n",
       "    }\n",
       "\n",
       "    .dataframe tbody tr th {\n",
       "        vertical-align: top;\n",
       "    }\n",
       "</style>\n",
       "<table border=\"1\" class=\"dataframe\">\n",
       "  <thead>\n",
       "    <tr style=\"text-align: right;\">\n",
       "      <th></th>\n",
       "      <th>source</th>\n",
       "      <th>sentence</th>\n",
       "      <th>tokens</th>\n",
       "    </tr>\n",
       "  </thead>\n",
       "  <tbody>\n",
       "    <tr>\n",
       "      <th>0</th>\n",
       "      <td>0</td>\n",
       "      <td>have  you  done  much  work</td>\n",
       "      <td>[have, you, done, much, work]</td>\n",
       "    </tr>\n",
       "    <tr>\n",
       "      <th>1</th>\n",
       "      <td>0</td>\n",
       "      <td>i've  done  some  work</td>\n",
       "      <td>[i, ve, done, some, work]</td>\n",
       "    </tr>\n",
       "    <tr>\n",
       "      <th>2</th>\n",
       "      <td>0</td>\n",
       "      <td>i've  tried</td>\n",
       "      <td>[i, ve, tried]</td>\n",
       "    </tr>\n",
       "    <tr>\n",
       "      <th>3</th>\n",
       "      <td>0</td>\n",
       "      <td>good</td>\n",
       "      <td>[good]</td>\n",
       "    </tr>\n",
       "    <tr>\n",
       "      <th>4</th>\n",
       "      <td>0</td>\n",
       "      <td>to  sort  of</td>\n",
       "      <td>[to, sort, of]</td>\n",
       "    </tr>\n",
       "  </tbody>\n",
       "</table>\n",
       "</div>"
      ],
      "text/plain": [
       "   source                      sentence                         tokens\n",
       "0       0  have  you  done  much  work   [have, you, done, much, work]\n",
       "1       0       i've  done  some  work       [i, ve, done, some, work]\n",
       "2       0                 i've  tried                   [i, ve, tried]\n",
       "3       0                         good                          [good]\n",
       "4       0                to  sort  of                   [to, sort, of]"
      ]
     },
     "execution_count": 24,
     "metadata": {},
     "output_type": "execute_result"
    }
   ],
   "source": [
    "# tokenize the sentences\n",
    "\n",
    "# I've tried the TweetTokenizer, which doesn't split contractions into two words, and the RegexpTokenizer, which does\n",
    "# split contractions into two words. They ultimately have the same results. On a quick glance, it looks like \n",
    "# RegexpTokenizer might be more widely used, so I'm going to go with that.\n",
    "\n",
    "from nltk.tokenize import RegexpTokenizer\n",
    "\n",
    "tokenizer = RegexpTokenizer(r'\\w+') # matches letters or numbers\n",
    "\n",
    "df_non_dup[\"tokens\"] = df_non_dup[\"sentence\"].apply(tokenizer.tokenize)\n",
    "df_non_dup.head()\n",
    "\n",
    "\n",
    "#from nltk.tokenize import TweetTokenizer\n",
    "#tokenizer = TweetTokenizer()\n",
    "#df_non_dup[\"tokens\"] = df_non_dup[\"sentence\"].apply(tokenizer.tokenize)\n",
    "#df_non_dup.head()"
   ]
  },
  {
   "cell_type": "markdown",
   "metadata": {},
   "source": [
    "The tokenizing removes punctuations, but it does not remove special characters like '@'. This could be an issue if this (or other) character is commonly used. I'm going to count how many times '@' is used in the data as a proxy for whether I need to be concerned about further data cleaning, or whether I can proceed with the data as they are for my first pass."
   ]
  },
  {
   "cell_type": "code",
   "execution_count": null,
   "metadata": {},
   "outputs": [],
   "source": [
    "tmp_n_at = sum(df_non_dup.sentence.str.contains('@'))\n",
    "tmp_n_words = sum(len(df_non_dup.sentence.split()))"
   ]
  },
  {
   "cell_type": "code",
   "execution_count": 33,
   "metadata": {},
   "outputs": [
    {
     "name": "stdout",
     "output_type": "stream",
     "text": [
      "5.03935209662e-05\n"
     ]
    }
   ],
   "source": [
    "# proportion of words that contain '@'\n",
    "print(tmp_n_at/tmp_n_words)"
   ]
  },
  {
   "cell_type": "markdown",
   "metadata": {},
   "source": [
    "It is clear that '@' is very rare in the data and can probably be ignored. I'm going to assume this is true for most oddities in the data. As a result, I'll proceed with the current data (without more cleaning) for this iteration."
   ]
  },
  {
   "cell_type": "markdown",
   "metadata": {},
   "source": [
    "### Gensim comes with the ability to use \"phrases\" instead of words. Unfortunately, the phrasing, as implemented here, doesn't work unless an individual inputs the new word as 'first_second', which would never happen. So, I've commented out these sections and will re-run it without it.\n",
    "Identify phrases that exist in our data."
   ]
  },
  {
   "cell_type": "code",
   "execution_count": 14,
   "metadata": {
    "collapsed": true
   },
   "outputs": [],
   "source": [
    "#british_phrases = models.phrases.Phrases(df_non_dup.loc[df_non_dup['source'] == 0, 'tokens'])\n",
    "#american_phrases = models.phrases.Phrases(df_non_dup.loc[df_non_dup['source'] == 1, 'tokens'])"
   ]
  },
  {
   "cell_type": "markdown",
   "metadata": {},
   "source": [
    "Update the tokens with our newly identified phrases."
   ]
  },
  {
   "cell_type": "code",
   "execution_count": 15,
   "metadata": {
    "collapsed": true
   },
   "outputs": [],
   "source": [
    "#df_non_dup.loc[df_non_dup['source']==0, 'tokens'].replace(british_phrases[df_non_dup.loc[df_non_dup['source']==0, 'tokens']], inplace=True)\n",
    "#df_non_dup.loc[df_non_dup['source']==1, 'tokens'].replace(american_phrases[df_non_dup.loc[df_non_dup['source']==1, 'tokens']], inplace=True)"
   ]
  },
  {
   "cell_type": "code",
   "execution_count": 16,
   "metadata": {},
   "outputs": [
    {
     "data": {
      "text/plain": [
       "0                               [have, you, done, much, work]\n",
       "1                                   [i, ve, done, some, work]\n",
       "2                                              [i, ve, tried]\n",
       "3                                                      [good]\n",
       "4                                              [to, sort, of]\n",
       "6           [what, the, hell, i, was, supposed, to, do, with]\n",
       "7                                    [what, were, you, doing]\n",
       "8           [there, s, some, i, m, totally, totally, confu...\n",
       "9                         [you, were, doing, differentiating]\n",
       "10                                                [and, then]\n",
       "11                                                     [yeah]\n",
       "12          [leaving, it, and, then, going, back, to, it, ...\n",
       "13                                             [some, of, it]\n",
       "15          [no, no, i, don, t, know, what, i, ve, done, w...\n",
       "16               [i, ve, been, concentrating, on, trying, to]\n",
       "17                                                     [okay]\n",
       "18          [i, ve, gone, through, these, i, don, t, know,...\n",
       "19                                                    [right]\n",
       "20          [i, done, them, and, then, i, ve, took, them, ...\n",
       "21          [i, ve, g, i, ve, got, about, a, half, a, doze...\n",
       "22          [and, i, ve, decided, to, do, it, in, this, co...\n",
       "24                                    [so, i, ve, done, that]\n",
       "25                            [now, i, can, understand, that]\n",
       "26                                         [understand, that]\n",
       "28                                     [that, goes, to, that]\n",
       "29                                                   [two, x]\n",
       "30                                [but, i, m, not, sure, why]\n",
       "31                    [now, is, that, that, cosh, squared, x]\n",
       "34                          [and, that, is, goes, to, two, x]\n",
       "35                                        [shine, squared, x]\n",
       "                                  ...                        \n",
       "13364461    [in, the, period, between, december, 1999, and...\n",
       "13364462    [the, flow, from, the, fbi, was, particularly,...\n",
       "13364463    [that, from, the, intelligence, community, was...\n",
       "13364464    [and, the, terrorist, threat, in, the, united,...\n",
       "13364465                                 [why, was, this, so]\n",
       "13364466    [most, obviously, it, was, because, everyone, ...\n",
       "13364467    [then, jordanian, authorities, arrested, 16, a...\n",
       "13364468    [those, in, custody, included, two, u, s, citi...\n",
       "13364469    [soon, after, an, alert, customs, agent, caugh...\n",
       "13364470    [he, was, found, to, have, confederates, on, b...\n",
       "13364471    [these, were, not, events, whispered, about, i...\n",
       "13364472    [the, information, was, in, all, major, newspa...\n",
       "13364473    [though, the, jordanian, arrests, only, made, ...\n",
       "13364474    [the, arrest, of, ressam, was, on, front, page...\n",
       "13364475    [fbi, field, offices, around, the, country, we...\n",
       "13364476    [representatives, of, the, justice, department...\n",
       "13364477    [after, the, millennium, alert, the, governmen...\n",
       "13364478    [counterterrorism, went, back, to, being, a, s...\n",
       "13364479    [but, the, experience, showed, that, the, gove...\n",
       "13364480    [while, one, factor, was, the, preexistence, o...\n",
       "13364481    [everyone, knew, not, only, of, an, abstract, ...\n",
       "13364482    [terrorism, had, a, face, that, of, ahmed, res...\n",
       "13364483    [in, the, summer, of, 2001, dci, tenet, the, c...\n",
       "13364484    [but, the, millennium, phenomenon, was, not, r...\n",
       "13364485    [fbi, field, offices, apparently, saw, no, abn...\n",
       "13364486    [between, may, 2001, and, september, 11, there...\n",
       "13364487    [front, page, stories, touching, on, the, subj...\n",
       "13364488    [all, this, reportage, looked, backward, descr...\n",
       "13364489    [back, page, notices, told, of, tightened, sec...\n",
       "13364490                        [all, the, rest, was, secret]\n",
       "Name: tokens, Length: 10298943, dtype: object"
      ]
     },
     "execution_count": 16,
     "metadata": {},
     "output_type": "execute_result"
    }
   ],
   "source": [
    "df_non_dup.tokens"
   ]
  },
  {
   "cell_type": "markdown",
   "metadata": {},
   "source": [
    "Inspect our data a bit more."
   ]
  },
  {
   "cell_type": "code",
   "execution_count": 34,
   "metadata": {},
   "outputs": [
    {
     "name": "stderr",
     "output_type": "stream",
     "text": [
      "Using TensorFlow backend.\n",
      "/Users/dan/anaconda3/lib/python3.6/importlib/_bootstrap.py:219: RuntimeWarning: compiletime version 3.5 of module 'tensorflow.python.framework.fast_tensor_util' does not match runtime version 3.6\n",
      "  return f(*args, **kwds)\n"
     ]
    },
    {
     "name": "stdout",
     "output_type": "stream",
     "text": [
      "105049293 words total, with a vocabulary size of 446226\n",
      "Max sentence length is 843\n"
     ]
    }
   ],
   "source": [
    "from keras.preprocessing.text import Tokenizer\n",
    "from keras.preprocessing.sequence import pad_sequences\n",
    "from keras.utils import to_categorical\n",
    "\n",
    "all_words = [word for tokens in df_non_dup[\"tokens\"] for word in tokens]\n",
    "sentence_lengths = [len(tokens) for tokens in df_non_dup[\"tokens\"]]\n",
    "VOCAB = sorted(list(set(all_words)))\n",
    "print(\"%s words total, with a vocabulary size of %s\" % (len(all_words), len(VOCAB)))\n",
    "print(\"Max sentence length is %s\" % max(sentence_lengths))"
   ]
  },
  {
   "cell_type": "markdown",
   "metadata": {},
   "source": [
    "That is a little strange that there is a sentence with length 843. I suspect that somewhere in the data processing, a bunch of sentences got combined into a single sentence. This would only be an issue at the sentence boundaries where words from one sentence could be associated with words from a second sentence. I'm going to look at how many of the sentences appear to have this problem. If it is not a widespread problem, I'm going to proceed without digging into the problem much further."
   ]
  },
  {
   "cell_type": "code",
   "execution_count": 37,
   "metadata": {},
   "outputs": [
    {
     "data": {
      "text/plain": [
       "(array([  2.26321100e+06,   3.70849800e+06,   2.11640200e+06,\n",
       "          1.11177700e+06,   5.59508000e+05,   2.73699000e+05,\n",
       "          1.32289000e+05,   6.39140000e+04,   3.16900000e+04,\n",
       "          1.63790000e+04,   8.62600000e+03,   4.74000000e+03,\n",
       "          2.75400000e+03,   1.70400000e+03,   1.04400000e+03,\n",
       "          7.21000000e+02,   4.66000000e+02,   3.10000000e+02,\n",
       "          2.24000000e+02,   1.83000000e+02,   1.37000000e+02,\n",
       "          1.12000000e+02,   7.70000000e+01,   7.80000000e+01,\n",
       "          5.30000000e+01,   4.70000000e+01,   4.10000000e+01,\n",
       "          3.80000000e+01,   2.00000000e+01,   2.60000000e+01,\n",
       "          1.80000000e+01,   1.90000000e+01,   1.50000000e+01,\n",
       "          1.10000000e+01,   1.10000000e+01,   8.00000000e+00,\n",
       "          3.00000000e+00,   1.20000000e+01,   6.00000000e+00,\n",
       "          7.00000000e+00,   1.00000000e+01,   6.00000000e+00,\n",
       "          4.00000000e+00,   3.00000000e+00,   5.00000000e+00,\n",
       "          3.00000000e+00,   2.00000000e+00,   4.00000000e+00,\n",
       "          2.00000000e+00,   1.00000000e+00,   2.00000000e+00,\n",
       "          2.00000000e+00,   1.00000000e+00,   1.00000000e+00,\n",
       "          0.00000000e+00,   0.00000000e+00,   2.00000000e+00,\n",
       "          0.00000000e+00,   0.00000000e+00,   0.00000000e+00,\n",
       "          1.00000000e+00,   0.00000000e+00,   1.00000000e+00,\n",
       "          2.00000000e+00,   1.00000000e+00,   0.00000000e+00,\n",
       "          1.00000000e+00,   0.00000000e+00,   0.00000000e+00,\n",
       "          0.00000000e+00,   0.00000000e+00,   1.00000000e+00,\n",
       "          0.00000000e+00,   0.00000000e+00,   0.00000000e+00,\n",
       "          0.00000000e+00,   0.00000000e+00,   0.00000000e+00,\n",
       "          0.00000000e+00,   2.00000000e+00,   0.00000000e+00,\n",
       "          0.00000000e+00,   0.00000000e+00,   0.00000000e+00,\n",
       "          0.00000000e+00,   0.00000000e+00,   2.00000000e+00,\n",
       "          0.00000000e+00,   0.00000000e+00,   0.00000000e+00,\n",
       "          0.00000000e+00,   1.00000000e+00,   0.00000000e+00,\n",
       "          0.00000000e+00,   1.00000000e+00,   0.00000000e+00,\n",
       "          0.00000000e+00,   0.00000000e+00,   0.00000000e+00,\n",
       "          0.00000000e+00,   0.00000000e+00,   0.00000000e+00,\n",
       "          0.00000000e+00,   0.00000000e+00,   0.00000000e+00,\n",
       "          0.00000000e+00,   0.00000000e+00,   0.00000000e+00,\n",
       "          0.00000000e+00,   1.00000000e+00,   0.00000000e+00,\n",
       "          0.00000000e+00,   0.00000000e+00,   0.00000000e+00,\n",
       "          0.00000000e+00,   0.00000000e+00,   1.00000000e+00,\n",
       "          0.00000000e+00,   0.00000000e+00,   0.00000000e+00,\n",
       "          0.00000000e+00,   0.00000000e+00,   0.00000000e+00,\n",
       "          0.00000000e+00,   0.00000000e+00,   1.00000000e+00,\n",
       "          0.00000000e+00,   0.00000000e+00,   0.00000000e+00,\n",
       "          0.00000000e+00,   0.00000000e+00,   0.00000000e+00,\n",
       "          0.00000000e+00,   0.00000000e+00,   0.00000000e+00,\n",
       "          0.00000000e+00,   0.00000000e+00,   0.00000000e+00,\n",
       "          0.00000000e+00,   0.00000000e+00,   0.00000000e+00,\n",
       "          0.00000000e+00,   0.00000000e+00,   0.00000000e+00,\n",
       "          0.00000000e+00,   0.00000000e+00,   0.00000000e+00,\n",
       "          0.00000000e+00,   0.00000000e+00,   0.00000000e+00,\n",
       "          0.00000000e+00,   0.00000000e+00,   0.00000000e+00,\n",
       "          0.00000000e+00,   0.00000000e+00,   0.00000000e+00,\n",
       "          0.00000000e+00,   0.00000000e+00,   0.00000000e+00,\n",
       "          0.00000000e+00,   0.00000000e+00,   0.00000000e+00,\n",
       "          0.00000000e+00,   0.00000000e+00,   0.00000000e+00,\n",
       "          0.00000000e+00,   0.00000000e+00,   0.00000000e+00,\n",
       "          1.00000000e+00,   0.00000000e+00,   0.00000000e+00,\n",
       "          0.00000000e+00,   0.00000000e+00,   0.00000000e+00,\n",
       "          0.00000000e+00,   0.00000000e+00,   0.00000000e+00,\n",
       "          0.00000000e+00,   0.00000000e+00,   0.00000000e+00,\n",
       "          0.00000000e+00,   0.00000000e+00,   0.00000000e+00,\n",
       "          0.00000000e+00,   0.00000000e+00,   0.00000000e+00,\n",
       "          0.00000000e+00,   0.00000000e+00,   0.00000000e+00,\n",
       "          0.00000000e+00,   0.00000000e+00,   0.00000000e+00,\n",
       "          0.00000000e+00,   0.00000000e+00,   0.00000000e+00,\n",
       "          0.00000000e+00,   0.00000000e+00,   0.00000000e+00,\n",
       "          0.00000000e+00]),\n",
       " array([  0,   5,  10,  15,  20,  25,  30,  35,  40,  45,  50,  55,  60,\n",
       "         65,  70,  75,  80,  85,  90,  95, 100, 105, 110, 115, 120, 125,\n",
       "        130, 135, 140, 145, 150, 155, 160, 165, 170, 175, 180, 185, 190,\n",
       "        195, 200, 205, 210, 215, 220, 225, 230, 235, 240, 245, 250, 255,\n",
       "        260, 265, 270, 275, 280, 285, 290, 295, 300, 305, 310, 315, 320,\n",
       "        325, 330, 335, 340, 345, 350, 355, 360, 365, 370, 375, 380, 385,\n",
       "        390, 395, 400, 405, 410, 415, 420, 425, 430, 435, 440, 445, 450,\n",
       "        455, 460, 465, 470, 475, 480, 485, 490, 495, 500, 505, 510, 515,\n",
       "        520, 525, 530, 535, 540, 545, 550, 555, 560, 565, 570, 575, 580,\n",
       "        585, 590, 595, 600, 605, 610, 615, 620, 625, 630, 635, 640, 645,\n",
       "        650, 655, 660, 665, 670, 675, 680, 685, 690, 695, 700, 705, 710,\n",
       "        715, 720, 725, 730, 735, 740, 745, 750, 755, 760, 765, 770, 775,\n",
       "        780, 785, 790, 795, 800, 805, 810, 815, 820, 825, 830, 835, 840,\n",
       "        845, 850, 855, 860, 865, 870, 875, 880, 885, 890, 895, 900, 905,\n",
       "        910, 915, 920, 925, 930, 935, 940, 945, 950, 955, 960, 965, 970,\n",
       "        975, 980, 985, 990, 995]),\n",
       " <a list of 199 Patch objects>)"
      ]
     },
     "execution_count": 37,
     "metadata": {},
     "output_type": "execute_result"
    },
    {
     "data": {
      "image/png": "[encoded data removed]",
      "text/plain": [
       "<matplotlib.figure.Figure at 0x1cb179a908>"
      ]
     },
     "metadata": {},
     "output_type": "display_data"
    }
   ],
   "source": [
    "plt.hist(sentence_lengths, bins=range(0,1000,5))"
   ]
  },
  {
   "cell_type": "markdown",
   "metadata": {},
   "source": [
    "Clearly, most sentences are short and the accidental combination of multiple sentences is likely not an issue. I'm going to proceed without further exploration into this 843 word sentence."
   ]
  },
  {
   "cell_type": "markdown",
   "metadata": {},
   "source": [
    "### Bag of words"
   ]
  },
  {
   "cell_type": "code",
   "execution_count": 19,
   "metadata": {
    "collapsed": true
   },
   "outputs": [],
   "source": [
    "british_vec = gensim.models.Word2Vec(df_non_dup.loc[df_non_dup['source'] == 0, 'tokens'], size=300)\n",
    "american_vec = gensim.models.Word2Vec(df_non_dup.loc[df_non_dup['source'] == 1, 'tokens'], size=300)"
   ]
  },
  {
   "cell_type": "markdown",
   "metadata": {},
   "source": [
    "Save/load the word vectors"
   ]
  },
  {
   "cell_type": "code",
   "execution_count": 39,
   "metadata": {
    "collapsed": true
   },
   "outputs": [],
   "source": [
    "#british_vec.wv.save(\"british_big\")\n",
    "#american_vec.wv.save(\"american_big\")\n",
    "british_vec = gensim.models.KeyedVectors.load('british_big')\n",
    "american_vec = gensim.models.KeyedVectors.load('american_big')\n"
   ]
  },
  {
   "cell_type": "markdown",
   "metadata": {},
   "source": [
    "Create word pairs that will serve as the \"map\" to connect the British and American vectors."
   ]
  },
  {
   "cell_type": "code",
   "execution_count": 40,
   "metadata": {
    "collapsed": true
   },
   "outputs": [],
   "source": [
    "train_file = \"training_words1000.txt\" # from https://www.ef.edu/english-resources/english-vocabulary/top-1000-words/\n",
    "\n",
    "with utils.smart_open(train_file, \"r\") as f:\n",
    "    word_pair = [tuple(utils.any2unicode(line.lower()).strip().split()) for line in f]"
   ]
  },
  {
   "cell_type": "code",
   "execution_count": 41,
   "metadata": {
    "collapsed": true
   },
   "outputs": [],
   "source": [
    "transmat_us_to_uk = models.translation_matrix.TranslationMatrix(american_vec.wv, british_vec.wv)\n",
    "transmat_us_to_uk.train(word_pair)\n",
    "transmat_uk_to_us = models.translation_matrix.TranslationMatrix(british_vec.wv, american_vec.wv)\n",
    "transmat_uk_to_us.train(word_pair)"
   ]
  },
  {
   "cell_type": "markdown",
   "metadata": {},
   "source": [
    "Now I'm going to \"validate\" my model using text from Harry Potter and the Half-Blood Prince."
   ]
  },
  {
   "cell_type": "code",
   "execution_count": 42,
   "metadata": {
    "collapsed": true
   },
   "outputs": [],
   "source": [
    "uk_words = []\n",
    "us_words = []\n",
    "\n",
    "#with utils.smart_open(train_file, \"r\") as f:\n",
    "#    word_pair = [tuple(utils.any2unicode(line.lower()).strip().split()) for line in f]\n",
    "header = True    \n",
    "with open('harry_potter_half_blood_prince_comparisons.txt', 'r') as hp: # uk words are in the first column and us in second\n",
    "    for line in hp:\n",
    "        if header:\n",
    "            header = False\n",
    "        else:\n",
    "            tmp_words = line.lower().split()\n",
    "            uk_words.append(tmp_words[0])\n",
    "            us_words.append(tmp_words[1])\n",
    "    \n"
   ]
  },
  {
   "cell_type": "markdown",
   "metadata": {},
   "source": [
    "Test American to British"
   ]
  },
  {
   "cell_type": "code",
   "execution_count": 43,
   "metadata": {
    "collapsed": true
   },
   "outputs": [],
   "source": [
    "def test_translation(original_words, translated_words, source_vec, destination_vec, number_to_return):\n",
    "    correct = 0\n",
    "    not_in_model = 0\n",
    "    tmp_correct_index = []\n",
    "    tmp_incorrect_index = []\n",
    "    \n",
    "    transmat = models.translation_matrix.TranslationMatrix(source_vec.wv, destination_vec.wv)\n",
    "    transmat.train(word_pair)\n",
    "\n",
    "    for i in range(len(original_words)): # using 1 instead of 0 because the list has a header\n",
    "        try:\n",
    "            output_dict = transmat.translate(original_words[i], topn=number_to_return, source_lang_vec=source_vec.wv, target_lang_vec=destination_vec.wv)\n",
    "            #print(translated_words[i], output_dict[original_words[i]])\n",
    "            if translated_words[i] in output_dict[original_words[i]]:\n",
    "                correct += 1\n",
    "                tmp_correct_index.append(i)\n",
    "            else:\n",
    "                tmp_incorrect_index.append(i)\n",
    "        except:\n",
    "            not_in_model += 1\n",
    "    return([correct/len(original_words), not_in_model/len(original_words), tmp_correct_index, tmp_incorrect_index])\n"
   ]
  },
  {
   "cell_type": "markdown",
   "metadata": {},
   "source": [
    "Test US to UK"
   ]
  },
  {
   "cell_type": "code",
   "execution_count": 44,
   "metadata": {},
   "outputs": [
    {
     "name": "stdout",
     "output_type": "stream",
     "text": [
      "[0.3434343434343434, 0.09090909090909091, [0, 4, 5, 6, 9, 11, 12, 14, 17, 19, 25, 29, 31, 33, 34, 35, 41, 44, 47, 49, 52, 56, 58, 62, 67, 70, 72, 74, 83, 84, 90, 91, 94, 98], [1, 2, 3, 7, 8, 10, 15, 16, 18, 20, 23, 24, 26, 27, 30, 32, 36, 37, 38, 40, 42, 43, 45, 46, 48, 51, 53, 54, 55, 59, 60, 61, 63, 64, 65, 66, 68, 69, 71, 73, 75, 76, 77, 79, 80, 81, 82, 85, 86, 87, 88, 89, 92, 93, 95, 97]]\n",
      "[0.42424242424242425, 0.09090909090909091, [0, 3, 4, 5, 6, 9, 11, 12, 14, 17, 19, 25, 29, 31, 33, 34, 35, 41, 44, 47, 49, 52, 53, 56, 58, 62, 64, 65, 67, 69, 70, 72, 74, 81, 83, 84, 85, 89, 90, 91, 94, 98], [1, 2, 7, 8, 10, 15, 16, 18, 20, 23, 24, 26, 27, 30, 32, 36, 37, 38, 40, 42, 43, 45, 46, 48, 51, 54, 55, 59, 60, 61, 63, 66, 68, 71, 73, 75, 76, 77, 79, 80, 82, 86, 87, 88, 92, 93, 95, 97]]\n"
     ]
    }
   ],
   "source": [
    "# this prints the \n",
    "print(test_translation(us_words, uk_words, american_vec, british_vec, 5))\n",
    "print(test_translation(us_words, uk_words, american_vec, british_vec, 10))\n",
    "us_to_uk_correct, us_to_uk_missing, us_to_uk_correct_index, us_to_uk_incorrect_index = test_translation(us_words, uk_words, american_vec, british_vec, 10)"
   ]
  },
  {
   "cell_type": "markdown",
   "metadata": {},
   "source": [
    "**US to UK translation results:**\n",
    "When checking to see if the expected word was in the top **5 translations was identified 35%** and **43% when that was expanded to the top 10**."
   ]
  },
  {
   "cell_type": "markdown",
   "metadata": {},
   "source": [
    "Test UK to US"
   ]
  },
  {
   "cell_type": "code",
   "execution_count": 44,
   "metadata": {},
   "outputs": [
    {
     "name": "stdout",
     "output_type": "stream",
     "text": [
      "[0.1919191919191919, 0.050505050505050504, [2, 3, 4, 6, 7, 8, 10, 17, 47, 49, 51, 52, 70, 72, 83, 84, 90, 97, 98], [0, 1, 5, 9, 11, 12, 14, 15, 18, 19, 20, 22, 23, 24, 25, 26, 27, 29, 30, 31, 32, 33, 34, 35, 36, 37, 38, 39, 40, 41, 42, 43, 44, 45, 46, 48, 53, 54, 55, 56, 57, 58, 59, 60, 61, 62, 63, 64, 65, 66, 67, 68, 69, 71, 73, 74, 75, 76, 77, 78, 79, 80, 81, 82, 85, 86, 87, 88, 89, 91, 92, 93, 94, 95, 96]]\n",
      "[0.2828282828282828, 0.050505050505050504, [0, 2, 3, 4, 6, 7, 8, 10, 14, 17, 19, 25, 29, 31, 47, 49, 51, 52, 62, 70, 72, 73, 79, 83, 84, 90, 97, 98], [1, 5, 9, 11, 12, 15, 18, 20, 22, 23, 24, 26, 27, 30, 32, 33, 34, 35, 36, 37, 38, 39, 40, 41, 42, 43, 44, 45, 46, 48, 53, 54, 55, 56, 57, 58, 59, 60, 61, 63, 64, 65, 66, 67, 68, 69, 71, 74, 75, 76, 77, 78, 80, 81, 82, 85, 86, 87, 88, 89, 91, 92, 93, 94, 95, 96]]\n"
     ]
    }
   ],
   "source": [
    "print(test_translation(uk_words, us_words, british_vec, american_vec, 5))\n",
    "print(test_translation(uk_words, us_words, british_vec, american_vec, 10))\n",
    "uk_to_us_correct, uk_to_us_missing, uk_to_us_correct_index, uk_to_us_incorrect_index = test_translation(uk_words, us_words, british_vec, american_vec, 10)"
   ]
  },
  {
   "cell_type": "markdown",
   "metadata": {},
   "source": [
    "**UK to US translation results:**\n",
    "When checking to see if the expected word was in the top **5 translations was identified 19%** and **28% when that was expanded to the top 10**."
   ]
  },
  {
   "cell_type": "markdown",
   "metadata": {},
   "source": [
    "Count how many times each word was observed in the training data"
   ]
  },
  {
   "cell_type": "code",
   "execution_count": 45,
   "metadata": {
    "collapsed": true
   },
   "outputs": [],
   "source": [
    "# a function that counts the number of occurrences of a word in the 'tokens' column\n",
    "def count_word_occurrences(tmp_word, tmp_source):\n",
    "    total_count = 0\n",
    "    tmp_df = df_non_dup.loc[df_non_dup['source'] == tmp_source]\n",
    "    for sentence in tmp_df['sentence']:\n",
    "        total_count += sentence.count(tmp_word)\n",
    "    return(total_count)\n",
    "    \n",
    "    "
   ]
  },
  {
   "cell_type": "markdown",
   "metadata": {},
   "source": [
    "How many times is each word observed in the data for the words we could translate and the words that we couldn't"
   ]
  },
  {
   "cell_type": "code",
   "execution_count": 58,
   "metadata": {
    "collapsed": true
   },
   "outputs": [],
   "source": [
    "incorrect_words_count_us_to_uk = []\n",
    "for i in us_to_uk_incorrect_index:\n",
    "    incorrect_words_count_us_to_uk.append([us_words[i], count_word_occurrences(us_words[i], 0), uk_words[i], count_word_occurrences(uk_words[i], 1)])"
   ]
  },
  {
   "cell_type": "code",
   "execution_count": 59,
   "metadata": {
    "collapsed": true
   },
   "outputs": [],
   "source": [
    "correct_words_count_us_to_uk = []\n",
    "for i in us_to_uk_correct_index:\n",
    "    correct_words_count_us_to_uk.append([us_words[i], count_word_occurrences(us_words[i], 0), uk_words[i], count_word_occurrences(uk_words[i], 1)])"
   ]
  },
  {
   "cell_type": "code",
   "execution_count": 61,
   "metadata": {
    "collapsed": true
   },
   "outputs": [],
   "source": [
    "count_of_good_translations = pd.DataFrame(correct_words_count_us_to_uk)\n",
    "count_of_good_translations.columns = ['us_word', 'us_count', 'uk_word', 'uk_count']\n",
    "count_of_good_translations['translated'] = 1\n",
    "\n",
    "count_of_bad_translations = pd.DataFrame(incorrect_words_count_us_to_uk)\n",
    "count_of_bad_translations.columns = ['us_word', 'us_count', 'uk_word', 'uk_count']\n",
    "count_of_bad_translations['translated'] = 0"
   ]
  },
  {
   "cell_type": "code",
   "execution_count": 62,
   "metadata": {},
   "outputs": [
    {
     "data": {
      "image/png": "[encoded data removed]",
      "text/plain": [
       "<matplotlib.figure.Figure at 0x1cb3a25c18>"
      ]
     },
     "metadata": {},
     "output_type": "display_data"
    }
   ],
   "source": [
    "count_of_good_translations.boxplot(column='us_count', by='translated')\n",
    "plt.ylim(ymax=1000000)\n",
    "plt.ylim(ymin=0)\n",
    "plt.show()"
   ]
  },
  {
   "cell_type": "code",
   "execution_count": 63,
   "metadata": {},
   "outputs": [
    {
     "data": {
      "image/png": "[encoded data removed]",
      "text/plain": [
       "<matplotlib.figure.Figure at 0x1cb2d60e80>"
      ]
     },
     "metadata": {},
     "output_type": "display_data"
    }
   ],
   "source": [
    "count_of_bad_translations.boxplot(column='us_count', by='translated')\n",
    "plt.ylim(ymax=1000000)\n",
    "plt.ylim(ymin=0)\n",
    "plt.show()"
   ]
  },
  {
   "cell_type": "markdown",
   "metadata": {},
   "source": [
    "Clearly, the words that were not translated properly had a low number of occurrences in the training data."
   ]
  }
 ],
 "metadata": {
  "kernelspec": {
   "display_name": "Python 3",
   "language": "python",
   "name": "python3"
  },
  "language_info": {
   "codemirror_mode": {
    "name": "ipython",
    "version": 3
   },
   "file_extension": ".py",
   "mimetype": "text/x-python",
   "name": "python",
   "nbconvert_exporter": "python",
   "pygments_lexer": "ipython3",
   "version": "3.6.3"
  }
 },
 "nbformat": 4,
 "nbformat_minor": 2
}
