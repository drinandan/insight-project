{
 "cells": [
  {
   "cell_type": "markdown",
   "metadata": {},
   "source": [
    "I recently added large corpora of sentences to a Postgresql. I want to use these data as new training data to see if we can do a better job of translating. Each corpus has millions of words and are specific to American and British dialects. Keep your fingers crossed..."
   ]
  },
  {
   "cell_type": "markdown",
   "metadata": {},
   "source": [
    "First, lets see what we have in the database."
   ]
  },
  {
   "cell_type": "code",
   "execution_count": 37,
   "metadata": {
    "collapsed": true
   },
   "outputs": [],
   "source": [
    "from sqlalchemy import create_engine\n",
    "from sqlalchemy_utils import database_exists, create_database\n",
    "import psycopg2\n",
    "import pandas as pd\n",
    "from gensim import models, utils\n",
    "from gensim.models import translation_matrix\n",
    "import gensim"
   ]
  },
  {
   "cell_type": "code",
   "execution_count": 6,
   "metadata": {
    "collapsed": true
   },
   "outputs": [],
   "source": [
    "# Define a database name\n",
    "# Set your postgres username\n",
    "dbname = 'corpus'\n",
    "username = 'dan' # change this to your username"
   ]
  },
  {
   "cell_type": "code",
   "execution_count": 7,
   "metadata": {},
   "outputs": [
    {
     "name": "stdout",
     "output_type": "stream",
     "text": [
      "postgres://dan@localhost/corpus\n"
     ]
    }
   ],
   "source": [
    "## 'engine' is a connection to a database\n",
    "## Here, we're using postgres, but sqlalchemy can connect to other things too.\n",
    "from sqlalchemy import create_engine\n",
    "engine = create_engine('postgres://%s@localhost/%s'%(username,dbname))\n",
    "print(engine.url)"
   ]
  },
  {
   "cell_type": "code",
   "execution_count": 8,
   "metadata": {
    "collapsed": true
   },
   "outputs": [],
   "source": [
    "conn = None\n",
    "conn = psycopg2.connect(database = dbname, user = username)\n",
    "cur = conn.cursor()\n",
    "\n",
    "# create table one by one\n",
    "\n",
    "# close communication with the PostgreSQL database server\n",
    "#cur.close()\n",
    "# commit the changes\n",
    "#conn.commit()"
   ]
  },
  {
   "cell_type": "code",
   "execution_count": 9,
   "metadata": {},
   "outputs": [
    {
     "name": "stdout",
     "output_type": "stream",
     "text": [
      "[('training_data',)]\n"
     ]
    }
   ],
   "source": [
    "cur = conn.cursor()\n",
    "cur.execute(\"select relname from pg_class where relkind='r' and relname !~ '^(pg_|sql_)';\")\n",
    "print (cur.fetchall())\n",
    "\n"
   ]
  },
  {
   "cell_type": "markdown",
   "metadata": {
    "collapsed": true
   },
   "source": [
    "### Input data into Pandas"
   ]
  },
  {
   "cell_type": "code",
   "execution_count": 10,
   "metadata": {},
   "outputs": [],
   "source": [
    "command = '''SELECT * \n",
    "             FROM training_data;\n",
    "             '''\n",
    "\n",
    "# Read in the data into Pandas\n",
    "df = pd.read_sql_query(command, con=engine)\n",
    "\n"
   ]
  },
  {
   "cell_type": "code",
   "execution_count": 11,
   "metadata": {},
   "outputs": [
    {
     "data": {
      "text/html": [
       "<div>\n",
       "<style>\n",
       "    .dataframe thead tr:only-child th {\n",
       "        text-align: right;\n",
       "    }\n",
       "\n",
       "    .dataframe thead th {\n",
       "        text-align: left;\n",
       "    }\n",
       "\n",
       "    .dataframe tbody tr th {\n",
       "        vertical-align: top;\n",
       "    }\n",
       "</style>\n",
       "<table border=\"1\" class=\"dataframe\">\n",
       "  <thead>\n",
       "    <tr style=\"text-align: right;\">\n",
       "      <th></th>\n",
       "      <th>source</th>\n",
       "      <th>sentence</th>\n",
       "    </tr>\n",
       "  </thead>\n",
       "  <tbody>\n",
       "    <tr>\n",
       "      <th>count</th>\n",
       "      <td>13364491</td>\n",
       "      <td>13364491</td>\n",
       "    </tr>\n",
       "    <tr>\n",
       "      <th>unique</th>\n",
       "      <td>2</td>\n",
       "      <td>10298943</td>\n",
       "    </tr>\n",
       "    <tr>\n",
       "      <th>top</th>\n",
       "      <td>BNC</td>\n",
       "      <td>yeah</td>\n",
       "    </tr>\n",
       "    <tr>\n",
       "      <th>freq</th>\n",
       "      <td>12736688</td>\n",
       "      <td>57030</td>\n",
       "    </tr>\n",
       "  </tbody>\n",
       "</table>\n",
       "</div>"
      ],
      "text/plain": [
       "          source  sentence\n",
       "count   13364491  13364491\n",
       "unique         2  10298943\n",
       "top          BNC     yeah \n",
       "freq    12736688     57030"
      ]
     },
     "execution_count": 11,
     "metadata": {},
     "output_type": "execute_result"
    }
   ],
   "source": [
    "df.describe()"
   ]
  },
  {
   "cell_type": "code",
   "execution_count": 17,
   "metadata": {
    "collapsed": true
   },
   "outputs": [],
   "source": [
    "df_non_dup = df.drop_duplicates()"
   ]
  },
  {
   "cell_type": "code",
   "execution_count": 18,
   "metadata": {},
   "outputs": [
    {
     "name": "stderr",
     "output_type": "stream",
     "text": [
      "/Users/dan/anaconda3/lib/python3.6/site-packages/ipykernel_launcher.py:2: SettingWithCopyWarning: \n",
      "A value is trying to be set on a copy of a slice from a DataFrame.\n",
      "Try using .loc[row_indexer,col_indexer] = value instead\n",
      "\n",
      "See the caveats in the documentation: http://pandas.pydata.org/pandas-docs/stable/indexing.html#indexing-view-versus-copy\n",
      "  \n"
     ]
    }
   ],
   "source": [
    "temp_replace = {'BNC':0, 'OANC': 1}\n",
    "df_non_dup['source'] = df_non_dup['source'].replace(temp_replace)"
   ]
  },
  {
   "cell_type": "code",
   "execution_count": 20,
   "metadata": {},
   "outputs": [
    {
     "data": {
      "text/html": [
       "<div>\n",
       "<style>\n",
       "    .dataframe thead tr:only-child th {\n",
       "        text-align: right;\n",
       "    }\n",
       "\n",
       "    .dataframe thead th {\n",
       "        text-align: left;\n",
       "    }\n",
       "\n",
       "    .dataframe tbody tr th {\n",
       "        vertical-align: top;\n",
       "    }\n",
       "</style>\n",
       "<table border=\"1\" class=\"dataframe\">\n",
       "  <thead>\n",
       "    <tr style=\"text-align: right;\">\n",
       "      <th></th>\n",
       "      <th>source</th>\n",
       "      <th>sentence</th>\n",
       "    </tr>\n",
       "  </thead>\n",
       "  <tbody>\n",
       "    <tr>\n",
       "      <th>0</th>\n",
       "      <td>0</td>\n",
       "      <td>have  you  done  much  work</td>\n",
       "    </tr>\n",
       "    <tr>\n",
       "      <th>1</th>\n",
       "      <td>0</td>\n",
       "      <td>i've  done  some  work</td>\n",
       "    </tr>\n",
       "    <tr>\n",
       "      <th>2</th>\n",
       "      <td>0</td>\n",
       "      <td>i've  tried</td>\n",
       "    </tr>\n",
       "    <tr>\n",
       "      <th>3</th>\n",
       "      <td>0</td>\n",
       "      <td>good</td>\n",
       "    </tr>\n",
       "    <tr>\n",
       "      <th>4</th>\n",
       "      <td>0</td>\n",
       "      <td>to  sort  of</td>\n",
       "    </tr>\n",
       "  </tbody>\n",
       "</table>\n",
       "</div>"
      ],
      "text/plain": [
       "   source                      sentence\n",
       "0       0  have  you  done  much  work \n",
       "1       0       i've  done  some  work \n",
       "2       0                 i've  tried  \n",
       "3       0                         good \n",
       "4       0                to  sort  of  "
      ]
     },
     "execution_count": 20,
     "metadata": {},
     "output_type": "execute_result"
    }
   ],
   "source": [
    "df_non_dup.head()"
   ]
  },
  {
   "cell_type": "code",
   "execution_count": 21,
   "metadata": {},
   "outputs": [
    {
     "name": "stderr",
     "output_type": "stream",
     "text": [
      "/Users/dan/anaconda3/lib/python3.6/site-packages/ipykernel_launcher.py:4: SettingWithCopyWarning: \n",
      "A value is trying to be set on a copy of a slice from a DataFrame.\n",
      "Try using .loc[row_indexer,col_indexer] = value instead\n",
      "\n",
      "See the caveats in the documentation: http://pandas.pydata.org/pandas-docs/stable/indexing.html#indexing-view-versus-copy\n",
      "  after removing the cwd from sys.path.\n",
      "/Users/dan/anaconda3/lib/python3.6/site-packages/ipykernel_launcher.py:5: SettingWithCopyWarning: \n",
      "A value is trying to be set on a copy of a slice from a DataFrame.\n",
      "Try using .loc[row_indexer,col_indexer] = value instead\n",
      "\n",
      "See the caveats in the documentation: http://pandas.pydata.org/pandas-docs/stable/indexing.html#indexing-view-versus-copy\n",
      "  \"\"\"\n",
      "/Users/dan/anaconda3/lib/python3.6/site-packages/ipykernel_launcher.py:6: SettingWithCopyWarning: \n",
      "A value is trying to be set on a copy of a slice from a DataFrame.\n",
      "Try using .loc[row_indexer,col_indexer] = value instead\n",
      "\n",
      "See the caveats in the documentation: http://pandas.pydata.org/pandas-docs/stable/indexing.html#indexing-view-versus-copy\n",
      "  \n",
      "/Users/dan/anaconda3/lib/python3.6/site-packages/ipykernel_launcher.py:7: SettingWithCopyWarning: \n",
      "A value is trying to be set on a copy of a slice from a DataFrame.\n",
      "Try using .loc[row_indexer,col_indexer] = value instead\n",
      "\n",
      "See the caveats in the documentation: http://pandas.pydata.org/pandas-docs/stable/indexing.html#indexing-view-versus-copy\n",
      "  import sys\n",
      "/Users/dan/anaconda3/lib/python3.6/site-packages/ipykernel_launcher.py:8: SettingWithCopyWarning: \n",
      "A value is trying to be set on a copy of a slice from a DataFrame.\n",
      "Try using .loc[row_indexer,col_indexer] = value instead\n",
      "\n",
      "See the caveats in the documentation: http://pandas.pydata.org/pandas-docs/stable/indexing.html#indexing-view-versus-copy\n",
      "  \n",
      "/Users/dan/anaconda3/lib/python3.6/site-packages/ipykernel_launcher.py:9: SettingWithCopyWarning: \n",
      "A value is trying to be set on a copy of a slice from a DataFrame.\n",
      "Try using .loc[row_indexer,col_indexer] = value instead\n",
      "\n",
      "See the caveats in the documentation: http://pandas.pydata.org/pandas-docs/stable/indexing.html#indexing-view-versus-copy\n",
      "  if __name__ == '__main__':\n"
     ]
    }
   ],
   "source": [
    "# clean up the poor data\n",
    "\n",
    "def standardize_text(temp_df, text_field):\n",
    "    temp_df[text_field] = temp_df[text_field].str.replace(r\"http\\S+\", \"\")\n",
    "    temp_df[text_field] = temp_df[text_field].str.replace(r\"http\", \"\")\n",
    "    temp_df[text_field] = temp_df[text_field].str.replace(r\"@\\S+\", \"\")\n",
    "    temp_df[text_field] = temp_df[text_field].str.replace(r\"[^A-Za-z0-9(),!?@\\'\\`\\\"\\_\\n]\", \" \")\n",
    "    temp_df[text_field] = temp_df[text_field].str.replace(r\"@\", \"at\")\n",
    "    temp_df[text_field] = temp_df[text_field].str.lower()\n",
    "    return temp_df\n",
    "\n",
    "df_non_dup = standardize_text(df_non_dup, \"sentence\")"
   ]
  },
  {
   "cell_type": "code",
   "execution_count": 22,
   "metadata": {},
   "outputs": [
    {
     "data": {
      "text/html": [
       "<div>\n",
       "<style>\n",
       "    .dataframe thead tr:only-child th {\n",
       "        text-align: right;\n",
       "    }\n",
       "\n",
       "    .dataframe thead th {\n",
       "        text-align: left;\n",
       "    }\n",
       "\n",
       "    .dataframe tbody tr th {\n",
       "        vertical-align: top;\n",
       "    }\n",
       "</style>\n",
       "<table border=\"1\" class=\"dataframe\">\n",
       "  <thead>\n",
       "    <tr style=\"text-align: right;\">\n",
       "      <th></th>\n",
       "      <th>source</th>\n",
       "      <th>sentence</th>\n",
       "    </tr>\n",
       "  </thead>\n",
       "  <tbody>\n",
       "    <tr>\n",
       "      <th>0</th>\n",
       "      <td>0</td>\n",
       "      <td>have  you  done  much  work</td>\n",
       "    </tr>\n",
       "    <tr>\n",
       "      <th>1</th>\n",
       "      <td>0</td>\n",
       "      <td>i've  done  some  work</td>\n",
       "    </tr>\n",
       "    <tr>\n",
       "      <th>2</th>\n",
       "      <td>0</td>\n",
       "      <td>i've  tried</td>\n",
       "    </tr>\n",
       "    <tr>\n",
       "      <th>3</th>\n",
       "      <td>0</td>\n",
       "      <td>good</td>\n",
       "    </tr>\n",
       "    <tr>\n",
       "      <th>4</th>\n",
       "      <td>0</td>\n",
       "      <td>to  sort  of</td>\n",
       "    </tr>\n",
       "  </tbody>\n",
       "</table>\n",
       "</div>"
      ],
      "text/plain": [
       "   source                      sentence\n",
       "0       0  have  you  done  much  work \n",
       "1       0       i've  done  some  work \n",
       "2       0                 i've  tried  \n",
       "3       0                         good \n",
       "4       0                to  sort  of  "
      ]
     },
     "execution_count": 22,
     "metadata": {},
     "output_type": "execute_result"
    }
   ],
   "source": [
    "df_non_dup.head()"
   ]
  },
  {
   "cell_type": "code",
   "execution_count": 23,
   "metadata": {},
   "outputs": [
    {
     "name": "stderr",
     "output_type": "stream",
     "text": [
      "/Users/dan/anaconda3/lib/python3.6/site-packages/ipykernel_launcher.py:7: SettingWithCopyWarning: \n",
      "A value is trying to be set on a copy of a slice from a DataFrame.\n",
      "Try using .loc[row_indexer,col_indexer] = value instead\n",
      "\n",
      "See the caveats in the documentation: http://pandas.pydata.org/pandas-docs/stable/indexing.html#indexing-view-versus-copy\n",
      "  import sys\n"
     ]
    },
    {
     "data": {
      "text/html": [
       "<div>\n",
       "<style>\n",
       "    .dataframe thead tr:only-child th {\n",
       "        text-align: right;\n",
       "    }\n",
       "\n",
       "    .dataframe thead th {\n",
       "        text-align: left;\n",
       "    }\n",
       "\n",
       "    .dataframe tbody tr th {\n",
       "        vertical-align: top;\n",
       "    }\n",
       "</style>\n",
       "<table border=\"1\" class=\"dataframe\">\n",
       "  <thead>\n",
       "    <tr style=\"text-align: right;\">\n",
       "      <th></th>\n",
       "      <th>source</th>\n",
       "      <th>sentence</th>\n",
       "      <th>tokens</th>\n",
       "    </tr>\n",
       "  </thead>\n",
       "  <tbody>\n",
       "    <tr>\n",
       "      <th>0</th>\n",
       "      <td>0</td>\n",
       "      <td>have  you  done  much  work</td>\n",
       "      <td>[have, you, done, much, work]</td>\n",
       "    </tr>\n",
       "    <tr>\n",
       "      <th>1</th>\n",
       "      <td>0</td>\n",
       "      <td>i've  done  some  work</td>\n",
       "      <td>[i, ve, done, some, work]</td>\n",
       "    </tr>\n",
       "    <tr>\n",
       "      <th>2</th>\n",
       "      <td>0</td>\n",
       "      <td>i've  tried</td>\n",
       "      <td>[i, ve, tried]</td>\n",
       "    </tr>\n",
       "    <tr>\n",
       "      <th>3</th>\n",
       "      <td>0</td>\n",
       "      <td>good</td>\n",
       "      <td>[good]</td>\n",
       "    </tr>\n",
       "    <tr>\n",
       "      <th>4</th>\n",
       "      <td>0</td>\n",
       "      <td>to  sort  of</td>\n",
       "      <td>[to, sort, of]</td>\n",
       "    </tr>\n",
       "  </tbody>\n",
       "</table>\n",
       "</div>"
      ],
      "text/plain": [
       "   source                      sentence                         tokens\n",
       "0       0  have  you  done  much  work   [have, you, done, much, work]\n",
       "1       0       i've  done  some  work       [i, ve, done, some, work]\n",
       "2       0                 i've  tried                   [i, ve, tried]\n",
       "3       0                         good                          [good]\n",
       "4       0                to  sort  of                   [to, sort, of]"
      ]
     },
     "execution_count": 23,
     "metadata": {},
     "output_type": "execute_result"
    }
   ],
   "source": [
    "# tokenize the sentences\n",
    "\n",
    "from nltk.tokenize import RegexpTokenizer\n",
    "\n",
    "tokenizer = RegexpTokenizer(r'\\w+')\n",
    "\n",
    "df_non_dup[\"tokens\"] = df_non_dup[\"sentence\"].apply(tokenizer.tokenize)\n",
    "df_non_dup.head()\n"
   ]
  },
  {
   "cell_type": "markdown",
   "metadata": {},
   "source": [
    "Inspect our data a bit more."
   ]
  },
  {
   "cell_type": "code",
   "execution_count": 24,
   "metadata": {},
   "outputs": [
    {
     "name": "stderr",
     "output_type": "stream",
     "text": [
      "Using TensorFlow backend.\n",
      "/Users/dan/anaconda3/lib/python3.6/importlib/_bootstrap.py:219: RuntimeWarning: compiletime version 3.5 of module 'tensorflow.python.framework.fast_tensor_util' does not match runtime version 3.6\n",
      "  return f(*args, **kwds)\n"
     ]
    },
    {
     "name": "stdout",
     "output_type": "stream",
     "text": [
      "105069975 words total, with a vocabulary size of 439001\n",
      "Max sentence length is 853\n"
     ]
    }
   ],
   "source": [
    "from keras.preprocessing.text import Tokenizer\n",
    "from keras.preprocessing.sequence import pad_sequences\n",
    "from keras.utils import to_categorical\n",
    "\n",
    "all_words = [word for tokens in df_non_dup[\"tokens\"] for word in tokens]\n",
    "sentence_lengths = [len(tokens) for tokens in df_non_dup[\"tokens\"]]\n",
    "VOCAB = sorted(list(set(all_words)))\n",
    "print(\"%s words total, with a vocabulary size of %s\" % (len(all_words), len(VOCAB)))\n",
    "print(\"Max sentence length is %s\" % max(sentence_lengths))"
   ]
  },
  {
   "cell_type": "markdown",
   "metadata": {},
   "source": [
    "### Bag of words"
   ]
  },
  {
   "cell_type": "code",
   "execution_count": 26,
   "metadata": {},
   "outputs": [],
   "source": [
    "from sklearn.model_selection import train_test_split\n",
    "from sklearn.feature_extraction.text import CountVectorizer, TfidfVectorizer\n",
    "\n",
    "def cv(data):\n",
    "    count_vectorizer = CountVectorizer()\n",
    "\n",
    "    emb = count_vectorizer.fit_transform(data)\n",
    "\n",
    "    return emb, count_vectorizer\n",
    "\n",
    "list_corpus = df_non_dup[\"sentence\"].tolist()\n",
    "list_labels = df_non_dup[\"source\"].tolist()\n",
    "\n",
    "counts, count_vectorizer = cv(list_corpus)\n",
    "\n",
    "X_train_counts, X_test_counts, y_train_counts, y_test_counts = train_test_split(counts, list_labels, test_size=0.2, random_state=40)"
   ]
  },
  {
   "cell_type": "code",
   "execution_count": 30,
   "metadata": {},
   "outputs": [],
   "source": [
    "british_vec = gensim.models.Word2Vec(df_non_dup.loc[df_non_dup['source'] == 0, 'tokens'], size=300)\n",
    "american_vec = gensim.models.Word2Vec(df_non_dup.loc[df_non_dup['source'] == 1, 'tokens'], size=300)"
   ]
  },
  {
   "cell_type": "markdown",
   "metadata": {},
   "source": [
    "Save the word vectors"
   ]
  },
  {
   "cell_type": "code",
   "execution_count": 31,
   "metadata": {
    "collapsed": true
   },
   "outputs": [],
   "source": [
    "british_vec.wv.save(\"british_big\")\n",
    "american_vec.wv.save(\"american_big\")"
   ]
  },
  {
   "cell_type": "code",
   "execution_count": 46,
   "metadata": {},
   "outputs": [
    {
     "name": "stdout",
     "output_type": "stream",
     "text": [
      "[('a', 'a'), ('ability', 'ability'), ('able', 'able'), ('about', 'about'), ('above', 'above'), ('accept', 'accept'), ('according', 'according'), ('account', 'account'), ('across', 'across'), ('act', 'act'), ('action', 'action'), ('activity', 'activity'), ('actually', 'actually'), ('add', 'add'), ('address', 'address'), ('administration', 'administration'), ('admit', 'admit'), ('adult', 'adult'), ('affect', 'affect'), ('after', 'after'), ('again', 'again'), ('against', 'against'), ('age', 'age'), ('agency', 'agency'), ('agent', 'agent'), ('ago', 'ago'), ('agree', 'agree'), ('agreement', 'agreement'), ('ahead', 'ahead'), ('air', 'air'), ('all', 'all'), ('allow', 'allow'), ('almost', 'almost'), ('alone', 'alone'), ('along', 'along'), ('already', 'already'), ('also', 'also'), ('although', 'although'), ('always', 'always'), ('american', 'american'), ('among', 'among'), ('amount', 'amount'), ('analysis', 'analysis'), ('and', 'and'), ('animal', 'animal'), ('another', 'another'), ('answer', 'answer'), ('any', 'any'), ('anyone', 'anyone'), ('anything', 'anything'), ('appear', 'appear'), ('apply', 'apply'), ('approach', 'approach'), ('area', 'area'), ('argue', 'argue'), ('arm', 'arm'), ('around', 'around'), ('arrive', 'arrive'), ('art', 'art'), ('article', 'article'), ('artist', 'artist'), ('as', 'as'), ('ask', 'ask'), ('assume', 'assume'), ('at', 'at'), ('attack', 'attack'), ('attention', 'attention'), ('attorney', 'attorney'), ('audience', 'audience'), ('author', 'author'), ('authority', 'authority'), ('available', 'available'), ('avoid', 'avoid'), ('away', 'away'), ('baby', 'baby'), ('back', 'back'), ('bad', 'bad'), ('bag', 'bag'), ('ball', 'ball'), ('bank', 'bank'), ('bar', 'bar'), ('base', 'base'), ('be', 'be'), ('beat', 'beat'), ('beautiful', 'beautiful'), ('because', 'because'), ('become', 'become'), ('bed', 'bed'), ('before', 'before'), ('begin', 'begin'), ('behavior', 'behavior'), ('behind', 'behind'), ('believe', 'believe'), ('benefit', 'benefit'), ('best', 'best'), ('better', 'better'), ('between', 'between'), ('beyond', 'beyond'), ('big', 'big'), ('bill', 'bill'), ('billion', 'billion'), ('bit', 'bit'), ('black', 'black'), ('blood', 'blood'), ('blue', 'blue'), ('board', 'board'), ('body', 'body'), ('book', 'book'), ('born', 'born'), ('both', 'both'), ('box', 'box'), ('boy', 'boy'), ('break', 'break'), ('bring', 'bring'), ('brother', 'brother'), ('budget', 'budget'), ('build', 'build'), ('building', 'building'), ('business', 'business'), ('but', 'but'), ('buy', 'buy'), ('by', 'by'), ('call', 'call'), ('camera', 'camera'), ('campaign', 'campaign'), ('can', 'can'), ('cancer', 'cancer'), ('candidate', 'candidate'), ('capital', 'capital'), ('car', 'car'), ('card', 'card'), ('care', 'care'), ('career', 'career'), ('carry', 'carry'), ('case', 'case'), ('catch', 'catch'), ('cause', 'cause'), ('cell', 'cell'), ('center', 'center'), ('central', 'central'), ('century', 'century'), ('certain', 'certain'), ('certainly', 'certainly'), ('chair', 'chair'), ('challenge', 'challenge'), ('chance', 'chance'), ('change', 'change'), ('character', 'character'), ('charge', 'charge'), ('check', 'check'), ('child', 'child'), ('choice', 'choice'), ('choose', 'choose'), ('church', 'church'), ('citizen', 'citizen'), ('city', 'city'), ('civil', 'civil'), ('claim', 'claim'), ('class', 'class'), ('clear', 'clear'), ('clearly', 'clearly'), ('close', 'close'), ('coach', 'coach'), ('cold', 'cold'), ('collection', 'collection'), ('college', 'college'), ('color', 'color'), ('come', 'come'), ('commercial', 'commercial'), ('common', 'common'), ('community', 'community'), ('company', 'company'), ('compare', 'compare'), ('computer', 'computer'), ('concern', 'concern'), ('condition', 'condition'), ('conference', 'conference'), ('congress', 'congress'), ('consider', 'consider'), ('consumer', 'consumer'), ('contain', 'contain'), ('continue', 'continue'), ('control', 'control'), ('cost', 'cost'), ('could', 'could'), ('country', 'country'), ('couple', 'couple'), ('course', 'course'), ('court', 'court'), ('cover', 'cover'), ('create', 'create'), ('crime', 'crime'), ('cultural', 'cultural'), ('culture', 'culture'), ('cup', 'cup'), ('current', 'current'), ('customer', 'customer'), ('cut', 'cut'), ('dark', 'dark'), ('data', 'data'), ('daughter', 'daughter'), ('day', 'day'), ('dead', 'dead'), ('deal', 'deal'), ('death', 'death'), ('debate', 'debate'), ('decade', 'decade'), ('decide', 'decide'), ('decision', 'decision'), ('deep', 'deep'), ('defense', 'defense'), ('degree', 'degree'), ('democrat', 'democrat'), ('democratic', 'democratic'), ('describe', 'describe'), ('design', 'design'), ('despite', 'despite'), ('detail', 'detail'), ('determine', 'determine'), ('develop', 'develop'), ('development', 'development'), ('die', 'die'), ('difference', 'difference'), ('different', 'different'), ('difficult', 'difficult'), ('dinner', 'dinner'), ('direction', 'direction'), ('director', 'director'), ('discover', 'discover'), ('discuss', 'discuss'), ('discussion', 'discussion'), ('disease', 'disease'), ('do', 'do'), ('doctor', 'doctor'), ('dog', 'dog'), ('door', 'door'), ('down', 'down'), ('draw', 'draw'), ('dream', 'dream'), ('drive', 'drive'), ('drop', 'drop'), ('drug', 'drug'), ('during', 'during'), ('each', 'each'), ('early', 'early'), ('east', 'east'), ('easy', 'easy'), ('eat', 'eat'), ('economic', 'economic'), ('economy', 'economy'), ('edge', 'edge'), ('education', 'education'), ('effect', 'effect'), ('effort', 'effort'), ('eight', 'eight'), ('either', 'either'), ('election', 'election'), ('else', 'else'), ('employee', 'employee'), ('end', 'end'), ('energy', 'energy'), ('enjoy', 'enjoy'), ('enough', 'enough'), ('enter', 'enter'), ('entire', 'entire'), ('environment', 'environment'), ('environmental', 'environmental'), ('especially', 'especially'), ('establish', 'establish'), ('even', 'even'), ('evening', 'evening'), ('event', 'event'), ('ever', 'ever'), ('every', 'every'), ('everybody', 'everybody'), ('everyone', 'everyone'), ('everything', 'everything'), ('evidence', 'evidence'), ('exactly', 'exactly'), ('example', 'example'), ('executive', 'executive'), ('exist', 'exist'), ('expect', 'expect'), ('experience', 'experience'), ('expert', 'expert'), ('explain', 'explain'), ('eye', 'eye'), ('face', 'face'), ('fact', 'fact'), ('factor', 'factor'), ('fail', 'fail'), ('fall', 'fall'), ('family', 'family'), ('far', 'far'), ('fast', 'fast'), ('father', 'father'), ('fear', 'fear'), ('federal', 'federal'), ('feel', 'feel'), ('feeling', 'feeling'), ('few', 'few'), ('field', 'field'), ('fight', 'fight'), ('figure', 'figure'), ('fill', 'fill'), ('film', 'film'), ('final', 'final'), ('finally', 'finally'), ('financial', 'financial'), ('find', 'find'), ('fine', 'fine'), ('finger', 'finger'), ('finish', 'finish'), ('fire', 'fire'), ('firm', 'firm'), ('first', 'first'), ('fish', 'fish'), ('five', 'five'), ('floor', 'floor'), ('fly', 'fly'), ('focus', 'focus'), ('follow', 'follow'), ('food', 'food'), ('foot', 'foot'), ('for', 'for'), ('force', 'force'), ('foreign', 'foreign'), ('forget', 'forget'), ('form', 'form'), ('former', 'former'), ('forward', 'forward'), ('four', 'four'), ('free', 'free'), ('friend', 'friend'), ('from', 'from'), ('front', 'front'), ('full', 'full'), ('fund', 'fund'), ('future', 'future'), ('game', 'game'), ('garden', 'garden'), ('gas', 'gas'), ('general', 'general'), ('generation', 'generation'), ('get', 'get'), ('girl', 'girl'), ('give', 'give'), ('glass', 'glass'), ('go', 'go'), ('goal', 'goal'), ('good', 'good'), ('government', 'government'), ('great', 'great'), ('green', 'green'), ('ground', 'ground'), ('group', 'group'), ('grow', 'grow'), ('growth', 'growth'), ('guess', 'guess'), ('gun', 'gun'), ('guy', 'guy'), ('hair', 'hair'), ('half', 'half'), ('hand', 'hand'), ('hang', 'hang'), ('happen', 'happen'), ('happy', 'happy'), ('hard', 'hard'), ('have', 'have'), ('he', 'he'), ('head', 'head'), ('health', 'health'), ('hear', 'hear'), ('heart', 'heart'), ('heat', 'heat'), ('heavy', 'heavy'), ('help', 'help'), ('her', 'her'), ('here', 'here'), ('herself', 'herself'), ('high', 'high'), ('him', 'him'), ('himself', 'himself'), ('his', 'his'), ('history', 'history'), ('hit', 'hit'), ('hold', 'hold'), ('home', 'home'), ('hope', 'hope'), ('hospital', 'hospital'), ('hot', 'hot'), ('hotel', 'hotel'), ('hour', 'hour'), ('house', 'house'), ('how', 'how'), ('however', 'however'), ('huge', 'huge'), ('human', 'human'), ('hundred', 'hundred'), ('husband', 'husband'), ('idea', 'idea'), ('identify', 'identify'), ('if', 'if'), ('image', 'image'), ('imagine', 'imagine'), ('impact', 'impact'), ('important', 'important'), ('improve', 'improve'), ('in', 'in'), ('include', 'include'), ('including', 'including'), ('increase', 'increase'), ('indeed', 'indeed'), ('indicate', 'indicate'), ('individual', 'individual'), ('industry', 'industry'), ('information', 'information'), ('inside', 'inside'), ('instead', 'instead'), ('institution', 'institution'), ('interest', 'interest'), ('interesting', 'interesting'), ('international', 'international'), ('interview', 'interview'), ('into', 'into'), ('investment', 'investment'), ('involve', 'involve'), ('issue', 'issue'), ('it', 'it'), ('item', 'item'), ('its', 'its'), ('itself', 'itself'), ('job', 'job'), ('join', 'join'), ('just', 'just'), ('keep', 'keep'), ('key', 'key'), ('kid', 'kid'), ('kill', 'kill'), ('kind', 'kind'), ('kitchen', 'kitchen'), ('know', 'know'), ('knowledge', 'knowledge'), ('land', 'land'), ('language', 'language'), ('large', 'large'), ('last', 'last'), ('late', 'late'), ('later', 'later'), ('laugh', 'laugh'), ('law', 'law'), ('lawyer', 'lawyer'), ('lay', 'lay'), ('lead', 'lead'), ('leader', 'leader'), ('learn', 'learn'), ('least', 'least'), ('leave', 'leave'), ('left', 'left'), ('leg', 'leg'), ('legal', 'legal'), ('less', 'less'), ('let', 'let'), ('letter', 'letter'), ('level', 'level'), ('lie', 'lie'), ('life', 'life'), ('light', 'light'), ('like', 'like'), ('likely', 'likely'), ('line', 'line'), ('list', 'list'), ('listen', 'listen'), ('little', 'little'), ('live', 'live'), ('local', 'local'), ('long', 'long'), ('look', 'look'), ('lose', 'lose'), ('loss', 'loss'), ('lot', 'lot'), ('love', 'love'), ('low', 'low'), ('machine', 'machine'), ('magazine', 'magazine'), ('main', 'main'), ('maintain', 'maintain'), ('major', 'major'), ('majority', 'majority'), ('make', 'make'), ('man', 'man'), ('manage', 'manage'), ('management', 'management'), ('manager', 'manager'), ('many', 'many'), ('market', 'market'), ('marriage', 'marriage'), ('material', 'material'), ('matter', 'matter'), ('may', 'may'), ('maybe', 'maybe'), ('me', 'me'), ('mean', 'mean'), ('measure', 'measure'), ('media', 'media'), ('medical', 'medical'), ('meet', 'meet'), ('meeting', 'meeting'), ('member', 'member'), ('memory', 'memory'), ('mention', 'mention'), ('message', 'message'), ('method', 'method'), ('middle', 'middle'), ('might', 'might'), ('military', 'military'), ('million', 'million'), ('mind', 'mind'), ('minute', 'minute'), ('miss', 'miss'), ('mission', 'mission'), ('model', 'model'), ('modern', 'modern'), ('moment', 'moment'), ('money', 'money'), ('month', 'month'), ('more', 'more'), ('morning', 'morning'), ('most', 'most'), ('mother', 'mother'), ('mouth', 'mouth'), ('move', 'move'), ('movement', 'movement'), ('movie', 'movie'), ('mr', 'mr'), ('mrs', 'mrs'), ('much', 'much'), ('music', 'music'), ('must', 'must'), ('my', 'my'), ('myself', 'myself'), ('name', 'name'), ('nation', 'nation'), ('national', 'national'), ('natural', 'natural'), ('nature', 'nature'), ('near', 'near'), ('nearly', 'nearly'), ('necessary', 'necessary'), ('need', 'need'), ('network', 'network'), ('never', 'never'), ('new', 'new'), ('news', 'news'), ('newspaper', 'newspaper'), ('next', 'next'), ('nice', 'nice'), ('night', 'night'), ('no', 'no'), ('none', 'none'), ('nor', 'nor'), ('north', 'north'), ('not', 'not'), ('note', 'note'), ('nothing', 'nothing'), ('notice', 'notice'), ('now', 'now'), ('number', 'number'), ('occur', 'occur'), ('of', 'of'), ('off', 'off'), ('offer', 'offer'), ('office', 'office'), ('officer', 'officer'), ('official', 'official'), ('often', 'often'), ('oh', 'oh'), ('oil', 'oil'), ('ok', 'ok'), ('old', 'old'), ('on', 'on'), ('once', 'once'), ('one', 'one'), ('only', 'only'), ('onto', 'onto'), ('open', 'open'), ('operation', 'operation'), ('opportunity', 'opportunity'), ('option', 'option'), ('or', 'or'), ('order', 'order'), ('organization', 'organization'), ('other', 'other'), ('others', 'others'), ('our', 'our'), ('out', 'out'), ('outside', 'outside'), ('over', 'over'), ('own', 'own'), ('owner', 'owner'), ('page', 'page'), ('pain', 'pain'), ('painting', 'painting'), ('paper', 'paper'), ('parent', 'parent'), ('part', 'part'), ('participant', 'participant'), ('particular', 'particular'), ('particularly', 'particularly'), ('partner', 'partner'), ('party', 'party'), ('pass', 'pass'), ('past', 'past'), ('patient', 'patient'), ('pattern', 'pattern'), ('pay', 'pay'), ('peace', 'peace'), ('people', 'people'), ('per', 'per'), ('perform', 'perform'), ('performance', 'performance'), ('perhaps', 'perhaps'), ('period', 'period'), ('person', 'person'), ('personal', 'personal'), ('phone', 'phone'), ('physical', 'physical'), ('pick', 'pick'), ('picture', 'picture'), ('piece', 'piece'), ('place', 'place'), ('plan', 'plan'), ('plant', 'plant'), ('play', 'play'), ('player', 'player'), ('point', 'point'), ('police', 'police'), ('policy', 'policy'), ('political', 'political'), ('politics', 'politics'), ('poor', 'poor'), ('popular', 'popular'), ('population', 'population'), ('position', 'position'), ('positive', 'positive'), ('possible', 'possible'), ('power', 'power'), ('practice', 'practice'), ('prepare', 'prepare'), ('present', 'present'), ('president', 'president'), ('pressure', 'pressure'), ('pretty', 'pretty'), ('prevent', 'prevent'), ('price', 'price'), ('private', 'private'), ('probably', 'probably'), ('problem', 'problem'), ('process', 'process'), ('produce', 'produce'), ('product', 'product'), ('production', 'production'), ('professional', 'professional'), ('professor', 'professor'), ('program', 'program'), ('project', 'project'), ('property', 'property'), ('protect', 'protect'), ('prove', 'prove'), ('provide', 'provide'), ('public', 'public'), ('pull', 'pull'), ('purpose', 'purpose'), ('push', 'push'), ('put', 'put'), ('quality', 'quality'), ('question', 'question'), ('quickly', 'quickly'), ('quite', 'quite'), ('race', 'race'), ('radio', 'radio'), ('raise', 'raise'), ('range', 'range'), ('rate', 'rate'), ('rather', 'rather'), ('reach', 'reach'), ('read', 'read'), ('ready', 'ready'), ('real', 'real'), ('reality', 'reality'), ('realize', 'realize'), ('really', 'really'), ('reason', 'reason'), ('receive', 'receive'), ('recent', 'recent'), ('recently', 'recently'), ('recognize', 'recognize'), ('record', 'record'), ('red', 'red'), ('reduce', 'reduce'), ('reflect', 'reflect'), ('region', 'region'), ('relate', 'relate'), ('relationship', 'relationship'), ('religious', 'religious'), ('remain', 'remain'), ('remember', 'remember'), ('remove', 'remove'), ('report', 'report'), ('represent', 'represent'), ('republican', 'republican'), ('require', 'require'), ('research', 'research'), ('resource', 'resource'), ('respond', 'respond'), ('response', 'response'), ('responsibility', 'responsibility'), ('rest', 'rest'), ('result', 'result'), ('return', 'return'), ('reveal', 'reveal'), ('rich', 'rich'), ('right', 'right'), ('rise', 'rise'), ('risk', 'risk'), ('road', 'road'), ('rock', 'rock'), ('role', 'role'), ('room', 'room'), ('rule', 'rule'), ('run', 'run'), ('safe', 'safe'), ('same', 'same'), ('save', 'save'), ('say', 'say'), ('scene', 'scene'), ('school', 'school'), ('science', 'science'), ('scientist', 'scientist'), ('score', 'score'), ('sea', 'sea'), ('season', 'season'), ('seat', 'seat'), ('second', 'second'), ('section', 'section'), ('security', 'security'), ('see', 'see'), ('seek', 'seek'), ('seem', 'seem'), ('sell', 'sell'), ('send', 'send'), ('senior', 'senior'), ('sense', 'sense'), ('series', 'series'), ('serious', 'serious'), ('serve', 'serve'), ('service', 'service'), ('set', 'set'), ('seven', 'seven'), ('several', 'several'), ('sex', 'sex'), ('sexual', 'sexual'), ('shake', 'shake'), ('share', 'share'), ('she', 'she'), ('shoot', 'shoot'), ('short', 'short'), ('shot', 'shot'), ('should', 'should'), ('shoulder', 'shoulder'), ('show', 'show'), ('side', 'side'), ('sign', 'sign'), ('significant', 'significant'), ('similar', 'similar'), ('simple', 'simple'), ('simply', 'simply'), ('since', 'since'), ('sing', 'sing'), ('single', 'single'), ('sister', 'sister'), ('sit', 'sit'), ('site', 'site'), ('situation', 'situation'), ('six', 'six'), ('size', 'size'), ('skill', 'skill'), ('skin', 'skin'), ('small', 'small'), ('smile', 'smile'), ('so', 'so'), ('social', 'social'), ('society', 'society'), ('soldier', 'soldier'), ('some', 'some'), ('somebody', 'somebody'), ('someone', 'someone'), ('something', 'something'), ('sometimes', 'sometimes'), ('son', 'son'), ('song', 'song'), ('soon', 'soon'), ('sort', 'sort'), ('sound', 'sound'), ('source', 'source'), ('south', 'south'), ('southern', 'southern'), ('space', 'space'), ('speak', 'speak'), ('special', 'special'), ('specific', 'specific'), ('speech', 'speech'), ('spend', 'spend'), ('sport', 'sport'), ('spring', 'spring'), ('staff', 'staff'), ('stage', 'stage'), ('stand', 'stand'), ('standard', 'standard'), ('star', 'star'), ('start', 'start'), ('state', 'state'), ('statement', 'statement'), ('station', 'station'), ('stay', 'stay'), ('step', 'step'), ('still', 'still'), ('stock', 'stock'), ('stop', 'stop'), ('store', 'store'), ('story', 'story'), ('strategy', 'strategy'), ('street', 'street'), ('strong', 'strong'), ('structure', 'structure'), ('student', 'student'), ('study', 'study'), ('stuff', 'stuff'), ('style', 'style'), ('subject', 'subject'), ('success', 'success'), ('successful', 'successful'), ('such', 'such'), ('suddenly', 'suddenly'), ('suffer', 'suffer'), ('suggest', 'suggest'), ('summer', 'summer'), ('support', 'support'), ('sure', 'sure'), ('surface', 'surface'), ('system', 'system'), ('table', 'table'), ('take', 'take'), ('talk', 'talk'), ('task', 'task'), ('tax', 'tax'), ('teach', 'teach'), ('teacher', 'teacher'), ('team', 'team'), ('technology', 'technology'), ('television', 'television'), ('tell', 'tell'), ('ten', 'ten'), ('tend', 'tend'), ('term', 'term'), ('test', 'test'), ('than', 'than'), ('thank', 'thank'), ('that', 'that'), ('the', 'the'), ('their', 'their'), ('them', 'them'), ('themselves', 'themselves'), ('then', 'then'), ('theory', 'theory'), ('there', 'there'), ('these', 'these'), ('they', 'they'), ('thing', 'thing'), ('think', 'think'), ('third', 'third'), ('this', 'this'), ('those', 'those'), ('though', 'though'), ('thought', 'thought'), ('thousand', 'thousand'), ('threat', 'threat'), ('three', 'three'), ('through', 'through'), ('throughout', 'throughout'), ('throw', 'throw'), ('thus', 'thus'), ('time', 'time'), ('to', 'to'), ('today', 'today'), ('together', 'together'), ('tonight', 'tonight'), ('too', 'too'), ('top', 'top'), ('total', 'total'), ('tough', 'tough'), ('toward', 'toward'), ('town', 'town'), ('trade', 'trade'), ('traditional', 'traditional'), ('training', 'training'), ('travel', 'travel'), ('treat', 'treat'), ('treatment', 'treatment'), ('tree', 'tree'), ('trial', 'trial'), ('trip', 'trip'), ('trouble', 'trouble'), ('true', 'true'), ('truth', 'truth'), ('try', 'try'), ('turn', 'turn'), ('tv', 'tv'), ('two', 'two'), ('type', 'type'), ('under', 'under'), ('understand', 'understand'), ('unit', 'unit'), ('until', 'until'), ('up', 'up'), ('upon', 'upon'), ('us', 'us'), ('use', 'use'), ('usually', 'usually'), ('value', 'value'), ('various', 'various'), ('very', 'very'), ('victim', 'victim'), ('view', 'view'), ('violence', 'violence'), ('visit', 'visit'), ('voice', 'voice'), ('vote', 'vote'), ('wait', 'wait'), ('walk', 'walk'), ('wall', 'wall'), ('want', 'want'), ('war', 'war'), ('watch', 'watch'), ('water', 'water'), ('way', 'way'), ('we', 'we'), ('weapon', 'weapon'), ('wear', 'wear'), ('week', 'week'), ('weight', 'weight'), ('well', 'well'), ('west', 'west'), ('western', 'western'), ('what', 'what'), ('whatever', 'whatever'), ('when', 'when'), ('where', 'where'), ('whether', 'whether'), ('which', 'which'), ('while', 'while'), ('white', 'white'), ('who', 'who'), ('whole', 'whole'), ('whom', 'whom'), ('whose', 'whose'), ('why', 'why'), ('wide', 'wide'), ('wife', 'wife'), ('will', 'will'), ('win', 'win'), ('wind', 'wind'), ('window', 'window'), ('wish', 'wish'), ('with', 'with'), ('within', 'within'), ('without', 'without'), ('woman', 'woman'), ('wonder', 'wonder'), ('word', 'word'), ('work', 'work'), ('worker', 'worker'), ('world', 'world'), ('worry', 'worry'), ('would', 'would'), ('write', 'write'), ('writer', 'writer'), ('wrong', 'wrong'), ('yard', 'yard'), ('yeah', 'yeah'), ('year', 'year'), ('yes', 'yes'), ('yet', 'yet'), ('you', 'you'), ('young', 'young'), ('your', 'your'), ('yourself', 'yourself')]\n"
     ]
    }
   ],
   "source": [
    "train_file = \"training_words1000.txt\" # from https://www.ef.edu/english-resources/english-vocabulary/top-1000-words/\n",
    "\n",
    "with utils.smart_open(train_file, \"r\") as f:\n",
    "    word_pair = [tuple(utils.any2unicode(line.lower()).strip().split()) for line in f]\n",
    "        \n",
    "print(word_pair)"
   ]
  },
  {
   "cell_type": "code",
   "execution_count": 47,
   "metadata": {},
   "outputs": [],
   "source": [
    "transmat = models.translation_matrix.TranslationMatrix(american_vec.wv, british_vec.wv)\n",
    "transmat.train(word_pair)"
   ]
  },
  {
   "cell_type": "code",
   "execution_count": 51,
   "metadata": {},
   "outputs": [
    {
     "data": {
      "text/plain": [
       "OrderedDict([('the', ['the', 'a', 'this']),\n",
       "             ('favor', ['favour', 'continuance', 'respect']),\n",
       "             ('is', ['is', 'was', 'exists']),\n",
       "             ('full', ['full', 'complete', 'fullness'])])"
      ]
     },
     "execution_count": 51,
     "metadata": {},
     "output_type": "execute_result"
    }
   ],
   "source": [
    "transmat.translate(['the', 'favor', 'is', 'full'], topn=3, source_lang_vec=american_vec.wv, target_lang_vec=british_vec.wv)"
   ]
  },
  {
   "cell_type": "code",
   "execution_count": null,
   "metadata": {
    "collapsed": true
   },
   "outputs": [],
   "source": []
  }
 ],
 "metadata": {
  "kernelspec": {
   "display_name": "Python 3",
   "language": "python",
   "name": "python3"
  },
  "language_info": {
   "codemirror_mode": {
    "name": "ipython",
    "version": 3
   },
   "file_extension": ".py",
   "mimetype": "text/x-python",
   "name": "python",
   "nbconvert_exporter": "python",
   "pygments_lexer": "ipython3",
   "version": "3.6.3"
  }
 },
 "nbformat": 4,
 "nbformat_minor": 2
}
