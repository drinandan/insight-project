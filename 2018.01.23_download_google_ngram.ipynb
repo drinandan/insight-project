{
 "cells": [
  {
   "cell_type": "markdown",
   "metadata": {},
   "source": [
    "I'm going to try to download the British and American ngram datasets from Google."
   ]
  },
  {
   "cell_type": "code",
   "execution_count": 2,
   "metadata": {},
   "outputs": [
    {
     "name": "stdout",
     "output_type": "stream",
     "text": [
      "Collecting google-ngram-downloader\n",
      "  Downloading google-ngram-downloader-4.0.1.tar.gz\n",
      "Collecting opster (from google-ngram-downloader)\n",
      "  Downloading opster-4.1.tar.gz\n",
      "Requirement already satisfied: py in /Users/dan/anaconda3/lib/python3.6/site-packages (from google-ngram-downloader)\n",
      "Requirement already satisfied: requests in /Users/dan/anaconda3/lib/python3.6/site-packages (from google-ngram-downloader)\n",
      "Requirement already satisfied: chardet<3.1.0,>=3.0.2 in /Users/dan/anaconda3/lib/python3.6/site-packages (from requests->google-ngram-downloader)\n",
      "Requirement already satisfied: idna<2.7,>=2.5 in /Users/dan/anaconda3/lib/python3.6/site-packages (from requests->google-ngram-downloader)\n",
      "Requirement already satisfied: urllib3<1.23,>=1.21.1 in /Users/dan/anaconda3/lib/python3.6/site-packages (from requests->google-ngram-downloader)\n",
      "Requirement already satisfied: certifi>=2017.4.17 in /Users/dan/anaconda3/lib/python3.6/site-packages (from requests->google-ngram-downloader)\n",
      "Building wheels for collected packages: google-ngram-downloader, opster\n",
      "  Running setup.py bdist_wheel for google-ngram-downloader ... \u001b[?25ldone\n",
      "\u001b[?25h  Stored in directory: /Users/dan/Library/Caches/pip/wheels/63/d2/b3/9ee3d81e06cf953d206bda113a8e4b46890d4a23c489bda90b\n",
      "  Running setup.py bdist_wheel for opster ... \u001b[?25ldone\n",
      "\u001b[?25h  Stored in directory: /Users/dan/Library/Caches/pip/wheels/d4/e7/b7/e13a6d6b34a3c993e18679bf7ecf5038b15674a82bb0a5f633\n",
      "Successfully built google-ngram-downloader opster\n",
      "Installing collected packages: opster, google-ngram-downloader\n",
      "Successfully installed google-ngram-downloader-4.0.1 opster-4.1\n"
     ]
    }
   ],
   "source": [
    "!pip install google-ngram-downloader"
   ]
  },
  {
   "cell_type": "code",
   "execution_count": 3,
   "metadata": {
    "collapsed": true
   },
   "outputs": [],
   "source": [
    "from google_ngram_downloader import readline_google_store\n",
    "#fname, url, records = next(readline_google_store(ngram_len=5))\n",
    "googlebooks-eng-gb-all-20120701"
   ]
  },
  {
   "cell_type": "code",
   "execution_count": 10,
   "metadata": {
    "collapsed": true
   },
   "outputs": [],
   "source": [
    "fname, url, records = next(readline_google_store(ngram_len=5))"
   ]
  },
  {
   "cell_type": "code",
   "execution_count": 15,
   "metadata": {},
   "outputs": [
    {
     "name": "stdout",
     "output_type": "stream",
     "text": [
      "Record(ngram='0 \" A most useful', year=1874, match_count=1, volume_count=1)\n"
     ]
    }
   ],
   "source": [
    "print(next(records))"
   ]
  },
  {
   "cell_type": "code",
   "execution_count": null,
   "metadata": {
    "collapsed": true
   },
   "outputs": [],
   "source": []
  }
 ],
 "metadata": {
  "kernelspec": {
   "display_name": "Python 3",
   "language": "python",
   "name": "python3"
  },
  "language_info": {
   "codemirror_mode": {
    "name": "ipython",
    "version": 3
   },
   "file_extension": ".py",
   "mimetype": "text/x-python",
   "name": "python",
   "nbconvert_exporter": "python",
   "pygments_lexer": "ipython3",
   "version": "3.6.3"
  }
 },
 "nbformat": 4,
 "nbformat_minor": 2
}
